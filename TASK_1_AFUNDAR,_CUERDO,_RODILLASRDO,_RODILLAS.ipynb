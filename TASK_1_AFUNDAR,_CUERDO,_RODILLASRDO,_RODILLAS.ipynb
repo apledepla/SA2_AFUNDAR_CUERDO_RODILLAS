{
  "nbformat": 4,
  "nbformat_minor": 0,
  "metadata": {
    "colab": {
      "provenance": [],
      "authorship_tag": "ABX9TyMnt+Jf4EWLLquB5CYlwWj9",
      "include_colab_link": true
    },
    "kernelspec": {
      "name": "ir",
      "display_name": "R"
    },
    "language_info": {
      "name": "R"
    }
  },
  "cells": [
    {
      "cell_type": "markdown",
      "metadata": {
        "id": "view-in-github",
        "colab_type": "text"
      },
      "source": [
        "<a href=\"https://colab.research.google.com/github/apledepla/SA2_AFUNDAR_CUERDO_RODILLAS/blob/task1/TASK_1_AFUNDAR%2C_CUERDO%2C_RODILLASRDO%2C_RODILLAS.ipynb\" target=\"_parent\"><img src=\"https://colab.research.google.com/assets/colab-badge.svg\" alt=\"Open In Colab\"/></a>"
      ]
    },
    {
      "cell_type": "markdown",
      "source": [],
      "metadata": {
        "id": "nVHef1vRaAvY"
      }
    },
    {
      "cell_type": "markdown",
      "source": [
        "# From Data to Diagnosis: Exploring Diabetes Predicotrs through Bootstrap, Jackknife, and Inference Models"
      ],
      "metadata": {
        "id": "peCgIOFnnzyx"
      }
    },
    {
      "cell_type": "code",
      "execution_count": 1,
      "metadata": {
        "colab": {
          "base_uri": "https://localhost:8080/"
        },
        "collapsed": true,
        "id": "hiqkUf5QZA4L",
        "outputId": "e5aa215e-751b-4416-b5b1-502700f083b5"
      },
      "outputs": [
        {
          "output_type": "stream",
          "name": "stderr",
          "text": [
            "\n",
            "Attaching package: ‘dplyr’\n",
            "\n",
            "\n",
            "The following objects are masked from ‘package:stats’:\n",
            "\n",
            "    filter, lag\n",
            "\n",
            "\n",
            "The following objects are masked from ‘package:base’:\n",
            "\n",
            "    intersect, setdiff, setequal, union\n",
            "\n",
            "\n"
          ]
        }
      ],
      "source": [
        "library(readr)\n",
        "library(ggplot2)\n",
        "library(dplyr)"
      ]
    },
    {
      "cell_type": "markdown",
      "source": [],
      "metadata": {
        "id": "EwizrwF0m9Qy"
      }
    },
    {
      "cell_type": "markdown",
      "source": [
        "## Introduction\n"
      ],
      "metadata": {
        "id": "YZxwHGRmn-m8"
      }
    },
    {
      "cell_type": "markdown",
      "source": [
        "Diabetes mellitus is a chronic and potentially life-threatening condition that affects millions of people worldwide. It is characterized by the body's inability to produce or effectively use insulin, which leads to elevated blood glucose levels. Early detection of diabetes is crucial to preventing serious health complications such as heart disease, kidney failure, and neuropathy.\n",
        "\n",
        "\n",
        "The rise of data-driven healthcare has enabled researchers to develop predictive models that can assist in early diagnosis. With the help of research techniques and inferential statistics, this project aims to explore the relationships between medical indicators and diabetes risk to develop more robust, accurate, and interpretable insights.\n",
        "\n",
        "This study uses the Pima Indians Diabetes Dataset, a well-known dataset in the medical and machine learning communities, in order to investigate which clinical features are most informative for predicting the onset of diabetes."
      ],
      "metadata": {
        "id": "jeiEsmAvogn8"
      }
    },
    {
      "cell_type": "markdown",
      "source": [
        "## Statement of the Problem"
      ],
      "metadata": {
        "id": "P1sUsHzHozc-"
      }
    },
    {
      "cell_type": "markdown",
      "source": [
        "Identifying the most significant predictors of diabetes remains a challenge due to variable distribution, sampling bias, and model overfitting. Thus, this project aims to determine which health-related variables most significantly predict the presence of diabetes in patiences, using statistical methods such as bootstrapping, jackknife resampling, permutation testing, and Bayesian inference.\n",
        "\n",
        "\n",
        "Particularly, it will try to answer the following questions:\n",
        "\n",
        "1."
      ],
      "metadata": {
        "id": "V5HGtqFmo7dN"
      }
    },
    {
      "cell_type": "markdown",
      "source": [
        "## Exploratory Data Analysis"
      ],
      "metadata": {
        "id": "xoEYlML4qsf6"
      }
    },
    {
      "cell_type": "markdown",
      "source": [
        "To better understand the structure and quality of the dataset, it is best to conduct a simple exploratory data analysis, to ensure  the nature of each variable is inspected before applying statistical inference techniques in later components."
      ],
      "metadata": {
        "id": "-IIi-fm6rXON"
      }
    },
    {
      "cell_type": "markdown",
      "source": [
        "### Overview"
      ],
      "metadata": {
        "id": "rpvRv4uxrb9U"
      }
    },
    {
      "cell_type": "code",
      "source": [
        "df <- read.csv(\"diabetes.csv\")\n",
        "head(df)"
      ],
      "metadata": {
        "colab": {
          "base_uri": "https://localhost:8080/",
          "height": 306
        },
        "id": "Hd1sBpj-mZK1",
        "outputId": "0a57b0fc-3991-444f-d12e-0846c9fb560d"
      },
      "execution_count": 3,
      "outputs": [
        {
          "output_type": "display_data",
          "data": {
            "text/html": [
              "<table class=\"dataframe\">\n",
              "<caption>A data.frame: 6 × 9</caption>\n",
              "<thead>\n",
              "\t<tr><th></th><th scope=col>Pregnancies</th><th scope=col>Glucose</th><th scope=col>BloodPressure</th><th scope=col>SkinThickness</th><th scope=col>Insulin</th><th scope=col>BMI</th><th scope=col>DiabetesPedigreeFunction</th><th scope=col>Age</th><th scope=col>Outcome</th></tr>\n",
              "\t<tr><th></th><th scope=col>&lt;int&gt;</th><th scope=col>&lt;int&gt;</th><th scope=col>&lt;int&gt;</th><th scope=col>&lt;int&gt;</th><th scope=col>&lt;int&gt;</th><th scope=col>&lt;dbl&gt;</th><th scope=col>&lt;dbl&gt;</th><th scope=col>&lt;int&gt;</th><th scope=col>&lt;int&gt;</th></tr>\n",
              "</thead>\n",
              "<tbody>\n",
              "\t<tr><th scope=row>1</th><td>6</td><td>148</td><td>72</td><td>35</td><td>  0</td><td>33.6</td><td>0.627</td><td>50</td><td>1</td></tr>\n",
              "\t<tr><th scope=row>2</th><td>1</td><td> 85</td><td>66</td><td>29</td><td>  0</td><td>26.6</td><td>0.351</td><td>31</td><td>0</td></tr>\n",
              "\t<tr><th scope=row>3</th><td>8</td><td>183</td><td>64</td><td> 0</td><td>  0</td><td>23.3</td><td>0.672</td><td>32</td><td>1</td></tr>\n",
              "\t<tr><th scope=row>4</th><td>1</td><td> 89</td><td>66</td><td>23</td><td> 94</td><td>28.1</td><td>0.167</td><td>21</td><td>0</td></tr>\n",
              "\t<tr><th scope=row>5</th><td>0</td><td>137</td><td>40</td><td>35</td><td>168</td><td>43.1</td><td>2.288</td><td>33</td><td>1</td></tr>\n",
              "\t<tr><th scope=row>6</th><td>5</td><td>116</td><td>74</td><td> 0</td><td>  0</td><td>25.6</td><td>0.201</td><td>30</td><td>0</td></tr>\n",
              "</tbody>\n",
              "</table>\n"
            ],
            "text/markdown": "\nA data.frame: 6 × 9\n\n| <!--/--> | Pregnancies &lt;int&gt; | Glucose &lt;int&gt; | BloodPressure &lt;int&gt; | SkinThickness &lt;int&gt; | Insulin &lt;int&gt; | BMI &lt;dbl&gt; | DiabetesPedigreeFunction &lt;dbl&gt; | Age &lt;int&gt; | Outcome &lt;int&gt; |\n|---|---|---|---|---|---|---|---|---|---|\n| 1 | 6 | 148 | 72 | 35 |   0 | 33.6 | 0.627 | 50 | 1 |\n| 2 | 1 |  85 | 66 | 29 |   0 | 26.6 | 0.351 | 31 | 0 |\n| 3 | 8 | 183 | 64 |  0 |   0 | 23.3 | 0.672 | 32 | 1 |\n| 4 | 1 |  89 | 66 | 23 |  94 | 28.1 | 0.167 | 21 | 0 |\n| 5 | 0 | 137 | 40 | 35 | 168 | 43.1 | 2.288 | 33 | 1 |\n| 6 | 5 | 116 | 74 |  0 |   0 | 25.6 | 0.201 | 30 | 0 |\n\n",
            "text/latex": "A data.frame: 6 × 9\n\\begin{tabular}{r|lllllllll}\n  & Pregnancies & Glucose & BloodPressure & SkinThickness & Insulin & BMI & DiabetesPedigreeFunction & Age & Outcome\\\\\n  & <int> & <int> & <int> & <int> & <int> & <dbl> & <dbl> & <int> & <int>\\\\\n\\hline\n\t1 & 6 & 148 & 72 & 35 &   0 & 33.6 & 0.627 & 50 & 1\\\\\n\t2 & 1 &  85 & 66 & 29 &   0 & 26.6 & 0.351 & 31 & 0\\\\\n\t3 & 8 & 183 & 64 &  0 &   0 & 23.3 & 0.672 & 32 & 1\\\\\n\t4 & 1 &  89 & 66 & 23 &  94 & 28.1 & 0.167 & 21 & 0\\\\\n\t5 & 0 & 137 & 40 & 35 & 168 & 43.1 & 2.288 & 33 & 1\\\\\n\t6 & 5 & 116 & 74 &  0 &   0 & 25.6 & 0.201 & 30 & 0\\\\\n\\end{tabular}\n",
            "text/plain": [
              "  Pregnancies Glucose BloodPressure SkinThickness Insulin BMI \n",
              "1 6           148     72            35              0     33.6\n",
              "2 1            85     66            29              0     26.6\n",
              "3 8           183     64             0              0     23.3\n",
              "4 1            89     66            23             94     28.1\n",
              "5 0           137     40            35            168     43.1\n",
              "6 5           116     74             0              0     25.6\n",
              "  DiabetesPedigreeFunction Age Outcome\n",
              "1 0.627                    50  1      \n",
              "2 0.351                    31  0      \n",
              "3 0.672                    32  1      \n",
              "4 0.167                    21  0      \n",
              "5 2.288                    33  1      \n",
              "6 0.201                    30  0      "
            ]
          },
          "metadata": {}
        }
      ]
    },
    {
      "cell_type": "markdown",
      "source": [
        "The dataset contains 768 observations and 9 variables, including 8 predictor features and 1 binary outcome variable (Outcome), where:\n",
        "\n",
        "- 0 indicates a non-diabetic patient\n",
        "\n",
        "- 1 indicates a diabetic patient"
      ],
      "metadata": {
        "id": "KFgbmJr_rkTB"
      }
    },
    {
      "cell_type": "markdown",
      "source": [
        "### Variable Summary\n"
      ],
      "metadata": {
        "id": "6F612L2rrn3l"
      }
    },
    {
      "cell_type": "code",
      "source": [
        "summary(df)"
      ],
      "metadata": {
        "colab": {
          "base_uri": "https://localhost:8080/",
          "height": 398
        },
        "id": "JZZuE76Trsq8",
        "outputId": "ebab306f-fffd-470e-841c-c37de73bff1b"
      },
      "execution_count": 4,
      "outputs": [
        {
          "output_type": "display_data",
          "data": {
            "text/plain": [
              "  Pregnancies        Glucose      BloodPressure    SkinThickness  \n",
              " Min.   : 0.000   Min.   :  0.0   Min.   :  0.00   Min.   : 0.00  \n",
              " 1st Qu.: 1.000   1st Qu.: 99.0   1st Qu.: 62.00   1st Qu.: 0.00  \n",
              " Median : 3.000   Median :117.0   Median : 72.00   Median :23.00  \n",
              " Mean   : 3.845   Mean   :120.9   Mean   : 69.11   Mean   :20.54  \n",
              " 3rd Qu.: 6.000   3rd Qu.:140.2   3rd Qu.: 80.00   3rd Qu.:32.00  \n",
              " Max.   :17.000   Max.   :199.0   Max.   :122.00   Max.   :99.00  \n",
              "    Insulin           BMI        DiabetesPedigreeFunction      Age       \n",
              " Min.   :  0.0   Min.   : 0.00   Min.   :0.0780           Min.   :21.00  \n",
              " 1st Qu.:  0.0   1st Qu.:27.30   1st Qu.:0.2437           1st Qu.:24.00  \n",
              " Median : 30.5   Median :32.00   Median :0.3725           Median :29.00  \n",
              " Mean   : 79.8   Mean   :31.99   Mean   :0.4719           Mean   :33.24  \n",
              " 3rd Qu.:127.2   3rd Qu.:36.60   3rd Qu.:0.6262           3rd Qu.:41.00  \n",
              " Max.   :846.0   Max.   :67.10   Max.   :2.4200           Max.   :81.00  \n",
              "    Outcome     \n",
              " Min.   :0.000  \n",
              " 1st Qu.:0.000  \n",
              " Median :0.000  \n",
              " Mean   :0.349  \n",
              " 3rd Qu.:1.000  \n",
              " Max.   :1.000  "
            ]
          },
          "metadata": {}
        }
      ]
    },
    {
      "cell_type": "markdown",
      "source": [
        "\n",
        "From the summary, the following findings are observed:\n",
        "- Glucose, BMI, and Age have reasonable ranges, but may not be normally distributed.\n",
        "\n",
        "- Insulin and SkinThickness contain many zeros, which may represent missing values rather than true measurements.\n",
        "\n",
        "- Outcome is binary and imbalanced (approx. 65% non-diabetic, 35% diabetic)."
      ],
      "metadata": {
        "id": "Peu1_7fRrvku"
      }
    }
  ]
}